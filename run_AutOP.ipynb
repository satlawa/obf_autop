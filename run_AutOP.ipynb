{
 "cells": [
  {
   "cell_type": "markdown",
   "metadata": {},
   "source": [
    "# AutOP\n",
    "AutOP is a script for the semiautomatic creation of the forest managment plan's technical report. If all the data is in the right folders (read readme) simply run this script. Happy reporting! ;-)"
   ]
  },
  {
   "cell_type": "code",
   "execution_count": 1,
   "metadata": {},
   "outputs": [],
   "source": [
    "import os\n",
    "from pathlib import Path\n",
    "from OBFMain import OBFMain\n",
    "from OBFFlTab import OBFFlTab"
   ]
  },
  {
   "cell_type": "markdown",
   "metadata": {},
   "source": [
    "set data path -> path where the data for the script is to be found "
   ]
  },
  {
   "cell_type": "code",
   "execution_count": 2,
   "metadata": {},
   "outputs": [],
   "source": [
    "# set home directory\n",
    "home_path = str(Path.home())\n",
    "# set data_path\n",
    "data_path = os.path.join(home_path, 'Data', 'obf_autop')"
   ]
  },
  {
   "cell_type": "code",
   "execution_count": 3,
   "metadata": {},
   "outputs": [
    {
     "data": {
      "text/plain": [
       "'/home/philipp/Data/obf_autop'"
      ]
     },
     "execution_count": 3,
     "metadata": {},
     "output_type": "execute_result"
    }
   ],
   "source": [
    "data_path"
   ]
  },
  {
   "cell_type": "markdown",
   "metadata": {},
   "source": [
    "### Create Operat"
   ]
  },
  {
   "cell_type": "markdown",
   "metadata": {},
   "source": [
    "The variable ```do_sections``` is containing the information which chapters of the technical report shall be created.<br> \n",
    "* If a chapter is set to ```1``` -> this chaptel will be created\n",
    "* If a chapter is set to ```0``` -> this chaptel will **NOT** be created"
   ]
  },
  {
   "cell_type": "code",
   "execution_count": 4,
   "metadata": {},
   "outputs": [],
   "source": [
    "# set sections to be created\n",
    "do_sections ={\n",
    "    \"1_Allgemeines\": 1,\n",
    "    \"2_Hauptergebnisse\": 1,\n",
    "    \"3_Natuerliche_Grundlagen\": 1,\n",
    "    \"4_Besitzstand\": 1,\n",
    "    \"5_Wald\": 1,\n",
    "    \"6_Holzernte\": 1,\n",
    "    \"7_Waldpflege\": 1,\n",
    "    \"8_Einforstung\": 1,\n",
    "    \"9_Wirtschaftsbeschraenkungen\": 1,\n",
    "    \"10_Naturschutz\": 1,\n",
    "    \"11_Vormerkungen\": 1,\n",
    "    \"12_Anhang\": 1,\n",
    "}"
   ]
  },
  {
   "cell_type": "markdown",
   "metadata": {},
   "source": [
    "The following variables are required for running the program.<br>\n",
    "* set ```to_now``` to the current Teiloperats-ID as a string (e.g. '1356')\n",
    "* set ```to_old``` to the previous Teiloperats-ID or Teiloperats-IDs as a list of ints (e.g. [1070, 1071])\n",
    "* set ```laufzeit_old``` to the previous Teiloperats-ID validity period as a string (e.g. '2009-2019')\n",
    "* set ```klima_stationen``` to the regions weather stations as a list of strings (e.g. ['Bischofshofen', 'Radstadt'])\n"
   ]
  },
  {
   "cell_type": "code",
   "execution_count": 5,
   "metadata": {},
   "outputs": [
    {
     "name": "stdout",
     "output_type": "stream",
     "text": [
      "-----------------------------------------------------\n",
      "-                                                   -\n",
      "-                   files exist                     -\n",
      "-                                                   -\n",
      "-----------------------------------------------------\n",
      "SAP Rohdaten:       to_1092_sap.XLS:             True\n",
      "SAP Ausertekat.:    to_1092_sap_natur.XLS:       True\n",
      "-----------------------------------------------------\n",
      "SAP HS-Bilanz neu:  to_1092_hs_bilanz.XLS:       True\n",
      "SAP HS-Bilanz alt:  to_1092_hs_bilanz_old.XLS:   True\n",
      "-----------------------------------------------------\n",
      "BW Alter:           to_1092_bw_alter.xlsx:       True\n",
      "BW Neigung:         to_1092_bw_neig.xlsx:        True\n",
      "BW Seehöhe:         to_1092_bw_seeh.xlsx:        True\n",
      "BW Umtriebszeit:    to_1092_bw_uz.xlsx:          True\n",
      "BW Zufällige:       to_1092_bw_zufaellige.xlsx:  True\n",
      "BW Waldpflege:      to_1092_bw_wp.xlsx:          True\n",
      "-----------------------------------------------------\n",
      "SAP Stichprobe:     SPI_2012.txt:                False\n",
      "-----------------------------------------------------\n",
      "Klima Temperatur:   1_Lufttemperatur.txt:        True\n",
      "Klima Niederschlag: 2_Niederschlag.txt:          True\n",
      "Klima Schnee:       4_Schnee.txt:                True\n",
      "-----------------------------------------------------\n",
      "Zusatz Dateien:     dict:                        True\n",
      "-----------------------------------------------------\n"
     ]
    }
   ],
   "source": [
    "# set Teiloperats-ID\n",
    "to_now = '1092' # 1343, 1341, 1345, 1353, 1354, 1355, 1356, 1361, 1360\n",
    "\n",
    "# set old Teiloperats-ID\n",
    "to_old = [1111] # [1031, 1041] [1069] [1056] [1048], [1041, 1079, 1330], [1070, 1071], [1030], [1081], [1067]\n",
    "\n",
    "# set Laufzeit\n",
    "laufzeit_old = '2002-2012'\n",
    "\n",
    "# set Klimastationen\n",
    "klima_stationen = ['Mariazell', 'Semmering', 'Muerzzuschlag', 'Reichenau an der Rax']\n",
    "# 'Wien-Hohe Warte', 'Wien-Unterlaa', 'Schwechat', 'Baden'\n",
    "# 'Mayrhofen', 'Jenbach', 'Krimml'\n",
    "# 'Bischofshofen', 'Radstadt'\n",
    "# 'Mariazell', ''\n",
    "\n",
    "# create object and check data\n",
    "obf_main = OBFMain(data_path, to_now, to_old, laufzeit_old, klima_stationen, do_sections)"
   ]
  },
  {
   "cell_type": "code",
   "execution_count": 6,
   "metadata": {
    "scrolled": true
   },
   "outputs": [
    {
     "name": "stderr",
     "output_type": "stream",
     "text": [
      "/home/philipp/miniconda3/envs/autop/lib/python3.8/site-packages/IPython/core/interactiveshell.py:3254: DtypeWarning: Columns (0,2,4,29,149) have mixed types.Specify dtype option on import or set low_memory=False.\n",
      "  if (await self.run_code(code, result,  async_=asy)):\n"
     ]
    },
    {
     "name": "stdout",
     "output_type": "stream",
     "text": [
      "***   0 Deckblatt   ***\n",
      "[['0' '0' '0']\n",
      " ['4' '0' '0']\n",
      " ['5' '0' '0']]\n",
      "***   1 Allgemeines   ***\n",
      "***   2 Hauptergebnisse   ***\n",
      "Flächenübersicht\n",
      "Hiebssätze im Jahrzehnt 2013-2022\n",
      "Hiebssätze Forstrevier\n",
      "Einforstung\n",
      "Fläche und Vorrat nach Altersklassen\n",
      "['0' '0' '0']\n",
      "['0' '0' 'W']\n",
      "['0' '0' 'S']\n",
      "Baumarten\n",
      "['0' '0' '0']\n",
      "['0' '0' 'W']\n",
      "['0' '0' 'S']\n",
      "Mittlere Ertragsklassen der Hauptbaumarten\n",
      "***   3 Natürliche Grundlagen   ***\n",
      "Seehöhe\n",
      "4\n",
      "5\n",
      "All\n",
      "Exposition\n",
      "4\n",
      "5\n",
      "All\n",
      "NeigGruppe\n",
      "4\n",
      "5\n",
      "All\n",
      "Klima\n",
      "Klimadiagramme\n",
      " - weather station Mariazell OK\n",
      " - weather station Semmering OK\n",
      " - weather station Muerzzuschlag OK\n",
      " - weather station Reichenau an der Rax OK\n",
      "Klimadiagramme\n",
      " - weather station Mariazell OK\n",
      " - weather station Semmering OK\n",
      " - weather station Muerzzuschlag OK\n",
      " - weather station Reichenau an der Rax OK\n",
      " - weather station Mariazell OK\n",
      "Standort\n",
      "   Anteile der Standortseinheiten_hektar\n",
      "   Substrat und Wüchsigkeit im Teiloperat\n",
      "Wuchsgebiete\n",
      "Herkunftsgebiete und Höhenstufen\n",
      "***   4 Besitzstand   ***\n",
      "***   5 Wald   ***\n",
      "Fläche und Vorrat nach Altersklassen\n",
      "['4' '0' '0']\n",
      "Baumartenausstattung\n",
      "['4' '0' '0']\n",
      "Bonitätsverlauf der Baumarten\n",
      "Mittelwerte\n",
      "Schichtalter\n",
      "['0' '0' '0']\n",
      "['0' '0' 'W']\n",
      "['0' '0' 'S']\n",
      "Ertragsklasse\n",
      "['0' '0' '0']\n",
      "['0' '0' 'W']\n",
      "['0' '0' 'S']\n",
      "BaumartenBestockgrad\n",
      "['0' '0' '0']\n",
      "['0' '0' 'W']\n",
      "['0' '0' 'S']\n",
      "Einteilung der Umtriebsgruppen\n",
      "***   6 Holzernte   ***\n",
      "Beurteilung der abgelaufenen Periode\n",
      "   Einschlagsübersicht\n",
      "   Vergleich Einschlag zu Hiebssatz\n",
      "['Wegscheid', 'Mariazell']\n",
      "   Schadholz\n",
      "   Waldbauliche Beurteilung\n",
      "Hiebssatzermittlung\n",
      "   Waldbaulicher Hiebssatz\n",
      "[4 5]\n",
      "   Berechneter Hiebssatz\n",
      "   Festgesetzter Hiebssatz\n",
      "      Hiebssätze FR\n"
     ]
    },
    {
     "name": "stderr",
     "output_type": "stream",
     "text": [
      "/home/philipp/miniconda3/envs/autop/lib/python3.8/site-packages/pandas/core/indexing.py:845: SettingWithCopyWarning: \n",
      "A value is trying to be set on a copy of a slice from a DataFrame.\n",
      "Try using .loc[row_indexer,col_indexer] = value instead\n",
      "\n",
      "See the caveats in the documentation: https://pandas.pydata.org/pandas-docs/stable/user_guide/indexing.html#returning-a-view-versus-a-copy\n",
      "  self.obj[key] = _infer_fill_value(value)\n",
      "/home/philipp/miniconda3/envs/autop/lib/python3.8/site-packages/pandas/core/indexing.py:966: SettingWithCopyWarning: \n",
      "A value is trying to be set on a copy of a slice from a DataFrame.\n",
      "Try using .loc[row_indexer,col_indexer] = value instead\n",
      "\n",
      "See the caveats in the documentation: https://pandas.pydata.org/pandas-docs/stable/user_guide/indexing.html#returning-a-view-versus-a-copy\n",
      "  self.obj[item] = s\n"
     ]
    },
    {
     "name": "stdout",
     "output_type": "stream",
     "text": [
      "      Hiebssätze UZ\n",
      "   Hiebssatz Begründung\n",
      "   Vergleich Hiebssatz vergangene und aktuelle Periode\n",
      "Ziele und Planung für die Periode 2013-2022\n",
      "Waldbauliche Grundsätze\n",
      "   Nutzungsprofil\n",
      "***   7 Waldpflege   ***\n",
      "Beurteilung der abgelaufenen Periode\n",
      "   Waldbauliche Beurteilung\n",
      "   Waldpflegeplan\n",
      "      Gesamtergebnis\n",
      "      Wegscheid\n",
      "      Mariazell\n",
      "Ziele und Planung für die Periode 2013-2022\n",
      "   Bestandesbegründung\n",
      "   Waldpflege\n",
      "   Erstdurchforstung\n",
      "Baumartenwahl\n",
      "***   8 Einforstung   ***\n",
      "***   9 Wirtschaftsbeschränkungen   ***\n",
      "Schutzwaldtypen\n",
      "Schutzwalderhaltungszustand\n",
      "   Methodik\n",
      "   Ergebnisse\n",
      "***   10 Naturschutz   ***\n",
      "Naturschutzgebiete\n",
      "   Naturschutzgebiet\n",
      "***   11 Vormerkungen für die nächste Forsteinrichtung   ***\n",
      "***   12 Anhang   ***\n",
      "end\n"
     ]
    },
    {
     "data": {
      "text/plain": [
       "'successfully made'"
      ]
     },
     "execution_count": 6,
     "metadata": {},
     "output_type": "execute_result"
    }
   ],
   "source": [
    "# run program\n",
    "obf_main.run()"
   ]
  },
  {
   "cell_type": "markdown",
   "metadata": {},
   "source": [
    "### Create Fleachentabelle"
   ]
  },
  {
   "cell_type": "code",
   "execution_count": 6,
   "metadata": {},
   "outputs": [
    {
     "data": {
      "text/plain": [
       "'/home/philipp/Data/obf_autop'"
      ]
     },
     "execution_count": 6,
     "metadata": {},
     "output_type": "execute_result"
    }
   ],
   "source": [
    "data_path"
   ]
  },
  {
   "cell_type": "code",
   "execution_count": 8,
   "metadata": {},
   "outputs": [
    {
     "name": "stdout",
     "output_type": "stream",
     "text": [
      "-----------------------------------------------------\n",
      "-                                                   -\n",
      "-                   files exist                     -\n",
      "-                                                   -\n",
      "-----------------------------------------------------\n",
      "SAP Rohdaten:       to_1361_sap.XLS:             True\n",
      "SAP Flurnamen:      to_1361_flurnamen.xlsx:      True\n",
      "-----------------------------------------------------\n",
      "Zusatz Dateien:     dict:                        True\n",
      "-----------------------------------------------------\n"
     ]
    }
   ],
   "source": [
    "# set Teiloperats-ID\n",
    "#to_now = '1360' # 1343, 1341, 1345, 1353, 1354, 1355, 1356, 1361\n",
    "# run program\n",
    "obf_main = OBFFlTab(data_path, to_now)"
   ]
  },
  {
   "cell_type": "code",
   "execution_count": null,
   "metadata": {},
   "outputs": [],
   "source": [
    "# run program\n",
    "obf_main.run()"
   ]
  }
 ],
 "metadata": {
  "kernelspec": {
   "display_name": "autop",
   "language": "python",
   "name": "autop"
  },
  "language_info": {
   "codemirror_mode": {
    "name": "ipython",
    "version": 3
   },
   "file_extension": ".py",
   "mimetype": "text/x-python",
   "name": "python",
   "nbconvert_exporter": "python",
   "pygments_lexer": "ipython3",
   "version": "3.8.2"
  }
 },
 "nbformat": 4,
 "nbformat_minor": 2
}
